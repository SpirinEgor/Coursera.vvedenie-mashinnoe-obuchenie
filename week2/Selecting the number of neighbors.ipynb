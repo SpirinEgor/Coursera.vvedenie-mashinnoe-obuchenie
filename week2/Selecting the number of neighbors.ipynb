{
 "cells": [
  {
   "cell_type": "code",
   "execution_count": 59,
   "metadata": {
    "collapsed": true
   },
   "outputs": [],
   "source": [
    "import pandas as pd\n",
    "import numpy as np\n",
    "from sklearn.neighbors import KNeighborsClassifier\n",
    "from sklearn.model_selection import KFold, cross_val_score\n",
    "from sklearn.preprocessing import scale"
   ]
  },
  {
   "cell_type": "code",
   "execution_count": 60,
   "metadata": {},
   "outputs": [
    {
     "name": "stdout",
     "output_type": "stream",
     "text": [
      "(0.7304761904761905, 1)\n",
      "(0.9776190476190475, 29)\n"
     ]
    }
   ],
   "source": [
    "data = pd.read_csv('wine.data', header = None)\n",
    "y = [i[0] for i in data[[0]].values]\n",
    "x = data[np.arange(1, 14)]\n",
    "fold_gen = KFold(n_splits = 5, shuffle = True, random_state = 42)\n",
    "all_quality = []\n",
    "for n in np.arange(1, 51):\n",
    "    classifier = KNeighborsClassifier(n_neighbors = n)\n",
    "    current_quality = cross_val_score(cv = fold_gen, estimator = classifier, X = x, y = y).mean()\n",
    "    all_quality.append((current_quality, n))\n",
    "print sorted(all_quality)[-1]\n",
    "all_quality_scaled = []\n",
    "for n in np.arange(1, 51):\n",
    "    classifier = KNeighborsClassifier(n_neighbors = n)\n",
    "    current_quality = cross_val_score(cv = fold_gen, estimator = classifier, X = scale(x), y = y).mean()\n",
    "    all_quality_scaled.append((current_quality, n))\n",
    "print sorted(all_quality_scaled)[-1]\n"
   ]
  },
  {
   "cell_type": "code",
   "execution_count": null,
   "metadata": {
    "collapsed": true
   },
   "outputs": [],
   "source": []
  }
 ],
 "metadata": {
  "kernelspec": {
   "display_name": "Python 2",
   "language": "python",
   "name": "python2"
  },
  "language_info": {
   "codemirror_mode": {
    "name": "ipython",
    "version": 2
   },
   "file_extension": ".py",
   "mimetype": "text/x-python",
   "name": "python",
   "nbconvert_exporter": "python",
   "pygments_lexer": "ipython2",
   "version": "2.7.14"
  }
 },
 "nbformat": 4,
 "nbformat_minor": 2
}
