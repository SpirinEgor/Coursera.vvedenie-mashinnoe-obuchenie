{
 "cells": [
  {
   "cell_type": "code",
   "execution_count": 5,
   "metadata": {},
   "outputs": [],
   "source": [
    "import pandas as pd\n",
    "import numpy as np\n",
    "from sklearn.neighbors import KNeighborsRegressor\n",
    "from sklearn.datasets import load_boston\n",
    "from sklearn.preprocessing import scale\n",
    "from sklearn.model_selection import KFold, cross_val_score"
   ]
  },
  {
   "cell_type": "code",
   "execution_count": 21,
   "metadata": {},
   "outputs": [
    {
     "name": "stdout",
     "output_type": "stream",
     "text": [
      "(-16.050208508436157, 1.0)\n"
     ]
    }
   ],
   "source": [
    "boston = load_boston()\n",
    "x = scale(boston.data)\n",
    "fold_gen = KFold(n_splits = 5, shuffle = True, random_state = 42)\n",
    "all_quality = []\n",
    "for p in np.linspace(1, 10, 200):\n",
    "    regressor = KNeighborsRegressor(n_neighbors = 5, weights = 'distance', p = p)\n",
    "    current_quality = cross_val_score(cv = fold_gen, estimator = regressor, X = x,\n",
    "                                      y = boston.target, scoring='neg_mean_squared_error').mean()\n",
    "    all_quality.append((current_quality, p))\n",
    "print sorted(all_quality)[-1]"
   ]
  },
  {
   "cell_type": "code",
   "execution_count": null,
   "metadata": {
    "collapsed": true
   },
   "outputs": [],
   "source": []
  }
 ],
 "metadata": {
  "kernelspec": {
   "display_name": "Python 2",
   "language": "python",
   "name": "python2"
  },
  "language_info": {
   "codemirror_mode": {
    "name": "ipython",
    "version": 2
   },
   "file_extension": ".py",
   "mimetype": "text/x-python",
   "name": "python",
   "nbconvert_exporter": "python",
   "pygments_lexer": "ipython2",
   "version": "2.7.14"
  }
 },
 "nbformat": 4,
 "nbformat_minor": 2
}
