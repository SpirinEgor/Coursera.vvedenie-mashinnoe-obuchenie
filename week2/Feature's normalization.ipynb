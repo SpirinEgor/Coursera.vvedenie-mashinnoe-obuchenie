{
 "cells": [
  {
   "cell_type": "code",
   "execution_count": 12,
   "metadata": {
    "collapsed": true
   },
   "outputs": [],
   "source": [
    "import pandas as pd\n",
    "import numpy as np\n",
    "from sklearn.linear_model import Perceptron\n",
    "from sklearn.preprocessing import StandardScaler\n",
    "from sklearn.metrics import accuracy_score"
   ]
  },
  {
   "cell_type": "code",
   "execution_count": 14,
   "metadata": {},
   "outputs": [
    {
     "name": "stdout",
     "output_type": "stream",
     "text": [
      "0.19\n"
     ]
    }
   ],
   "source": [
    "train_data = pd.read_csv('perceptron-train.csv', header = None)\n",
    "X_train = train_data[np.arange(1, 3)]\n",
    "y_train = [i[0] for i in train_data[[0]].values]\n",
    "\n",
    "test_data = pd.read_csv('perceptron-test.csv', header = None)\n",
    "X_test = test_data[np.arange(1, 3)]\n",
    "y_test = [i[0] for i in test_data[[0]].values]\n",
    "\n",
    "scaler = StandardScaler()\n",
    "X_train_scaled = scaler.fit_transform(X_train)\n",
    "X_test_scaled = scaler.transform(X_test)\n",
    "\n",
    "clf = Perceptron(random_state = 241)\n",
    "\n",
    "clf.fit(X_train, y_train)\n",
    "accuracy = accuracy_score(y_test, clf.predict(X_test))\n",
    "clf.fit(X_train_scaled, y_train)\n",
    "accuracy_scaled = accuracy_score(y_test, clf.predict(X_test_scaled))\n",
    "\n",
    "print abs(accuracy_scaled - accuracy)"
   ]
  },
  {
   "cell_type": "code",
   "execution_count": null,
   "metadata": {
    "collapsed": true
   },
   "outputs": [],
   "source": []
  }
 ],
 "metadata": {
  "kernelspec": {
   "display_name": "Python 2",
   "language": "python",
   "name": "python2"
  },
  "language_info": {
   "codemirror_mode": {
    "name": "ipython",
    "version": 2
   },
   "file_extension": ".py",
   "mimetype": "text/x-python",
   "name": "python",
   "nbconvert_exporter": "python",
   "pygments_lexer": "ipython2",
   "version": "2.7.14"
  }
 },
 "nbformat": 4,
 "nbformat_minor": 2
}
