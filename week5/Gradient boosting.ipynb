{
 "cells": [
  {
   "cell_type": "code",
   "execution_count": 1,
   "metadata": {
    "collapsed": true
   },
   "outputs": [],
   "source": [
    "import numpy as np\n",
    "import pandas as pd\n",
    "import matplotlib.pyplot as plt\n",
    "import seaborn as sns\n",
    "%matplotlib inline"
   ]
  },
  {
   "cell_type": "code",
   "execution_count": 2,
   "metadata": {},
   "outputs": [
    {
     "data": {
      "text/html": [
       "<div>\n",
       "<style>\n",
       "    .dataframe thead tr:only-child th {\n",
       "        text-align: right;\n",
       "    }\n",
       "\n",
       "    .dataframe thead th {\n",
       "        text-align: left;\n",
       "    }\n",
       "\n",
       "    .dataframe tbody tr th {\n",
       "        vertical-align: top;\n",
       "    }\n",
       "</style>\n",
       "<table border=\"1\" class=\"dataframe\">\n",
       "  <thead>\n",
       "    <tr style=\"text-align: right;\">\n",
       "      <th></th>\n",
       "      <th>Activity</th>\n",
       "      <th>D1</th>\n",
       "      <th>D2</th>\n",
       "      <th>D3</th>\n",
       "      <th>D4</th>\n",
       "      <th>D5</th>\n",
       "      <th>D6</th>\n",
       "      <th>D7</th>\n",
       "      <th>D8</th>\n",
       "      <th>D9</th>\n",
       "      <th>...</th>\n",
       "      <th>D1767</th>\n",
       "      <th>D1768</th>\n",
       "      <th>D1769</th>\n",
       "      <th>D1770</th>\n",
       "      <th>D1771</th>\n",
       "      <th>D1772</th>\n",
       "      <th>D1773</th>\n",
       "      <th>D1774</th>\n",
       "      <th>D1775</th>\n",
       "      <th>D1776</th>\n",
       "    </tr>\n",
       "  </thead>\n",
       "  <tbody>\n",
       "    <tr>\n",
       "      <th>0</th>\n",
       "      <td>1</td>\n",
       "      <td>0.000000</td>\n",
       "      <td>0.497009</td>\n",
       "      <td>0.10</td>\n",
       "      <td>0.0</td>\n",
       "      <td>0.132956</td>\n",
       "      <td>0.678031</td>\n",
       "      <td>0.273166</td>\n",
       "      <td>0.585445</td>\n",
       "      <td>0.743663</td>\n",
       "      <td>...</td>\n",
       "      <td>0</td>\n",
       "      <td>0</td>\n",
       "      <td>0</td>\n",
       "      <td>0</td>\n",
       "      <td>0</td>\n",
       "      <td>0</td>\n",
       "      <td>0</td>\n",
       "      <td>0</td>\n",
       "      <td>0</td>\n",
       "      <td>0</td>\n",
       "    </tr>\n",
       "    <tr>\n",
       "      <th>1</th>\n",
       "      <td>1</td>\n",
       "      <td>0.366667</td>\n",
       "      <td>0.606291</td>\n",
       "      <td>0.05</td>\n",
       "      <td>0.0</td>\n",
       "      <td>0.111209</td>\n",
       "      <td>0.803455</td>\n",
       "      <td>0.106105</td>\n",
       "      <td>0.411754</td>\n",
       "      <td>0.836582</td>\n",
       "      <td>...</td>\n",
       "      <td>1</td>\n",
       "      <td>1</td>\n",
       "      <td>1</td>\n",
       "      <td>1</td>\n",
       "      <td>0</td>\n",
       "      <td>1</td>\n",
       "      <td>0</td>\n",
       "      <td>0</td>\n",
       "      <td>1</td>\n",
       "      <td>0</td>\n",
       "    </tr>\n",
       "    <tr>\n",
       "      <th>2</th>\n",
       "      <td>1</td>\n",
       "      <td>0.033300</td>\n",
       "      <td>0.480124</td>\n",
       "      <td>0.00</td>\n",
       "      <td>0.0</td>\n",
       "      <td>0.209791</td>\n",
       "      <td>0.610350</td>\n",
       "      <td>0.356453</td>\n",
       "      <td>0.517720</td>\n",
       "      <td>0.679051</td>\n",
       "      <td>...</td>\n",
       "      <td>0</td>\n",
       "      <td>0</td>\n",
       "      <td>0</td>\n",
       "      <td>0</td>\n",
       "      <td>0</td>\n",
       "      <td>0</td>\n",
       "      <td>0</td>\n",
       "      <td>0</td>\n",
       "      <td>0</td>\n",
       "      <td>0</td>\n",
       "    </tr>\n",
       "    <tr>\n",
       "      <th>3</th>\n",
       "      <td>1</td>\n",
       "      <td>0.000000</td>\n",
       "      <td>0.538825</td>\n",
       "      <td>0.00</td>\n",
       "      <td>0.5</td>\n",
       "      <td>0.196344</td>\n",
       "      <td>0.724230</td>\n",
       "      <td>0.235606</td>\n",
       "      <td>0.288764</td>\n",
       "      <td>0.805110</td>\n",
       "      <td>...</td>\n",
       "      <td>0</td>\n",
       "      <td>0</td>\n",
       "      <td>0</td>\n",
       "      <td>0</td>\n",
       "      <td>0</td>\n",
       "      <td>0</td>\n",
       "      <td>0</td>\n",
       "      <td>0</td>\n",
       "      <td>0</td>\n",
       "      <td>0</td>\n",
       "    </tr>\n",
       "    <tr>\n",
       "      <th>4</th>\n",
       "      <td>0</td>\n",
       "      <td>0.100000</td>\n",
       "      <td>0.517794</td>\n",
       "      <td>0.00</td>\n",
       "      <td>0.0</td>\n",
       "      <td>0.494734</td>\n",
       "      <td>0.781422</td>\n",
       "      <td>0.154361</td>\n",
       "      <td>0.303809</td>\n",
       "      <td>0.812646</td>\n",
       "      <td>...</td>\n",
       "      <td>0</td>\n",
       "      <td>0</td>\n",
       "      <td>0</td>\n",
       "      <td>0</td>\n",
       "      <td>0</td>\n",
       "      <td>0</td>\n",
       "      <td>0</td>\n",
       "      <td>0</td>\n",
       "      <td>0</td>\n",
       "      <td>0</td>\n",
       "    </tr>\n",
       "  </tbody>\n",
       "</table>\n",
       "<p>5 rows × 1777 columns</p>\n",
       "</div>"
      ],
      "text/plain": [
       "   Activity        D1        D2    D3   D4        D5        D6        D7  \\\n",
       "0         1  0.000000  0.497009  0.10  0.0  0.132956  0.678031  0.273166   \n",
       "1         1  0.366667  0.606291  0.05  0.0  0.111209  0.803455  0.106105   \n",
       "2         1  0.033300  0.480124  0.00  0.0  0.209791  0.610350  0.356453   \n",
       "3         1  0.000000  0.538825  0.00  0.5  0.196344  0.724230  0.235606   \n",
       "4         0  0.100000  0.517794  0.00  0.0  0.494734  0.781422  0.154361   \n",
       "\n",
       "         D8        D9  ...    D1767  D1768  D1769  D1770  D1771  D1772  D1773  \\\n",
       "0  0.585445  0.743663  ...        0      0      0      0      0      0      0   \n",
       "1  0.411754  0.836582  ...        1      1      1      1      0      1      0   \n",
       "2  0.517720  0.679051  ...        0      0      0      0      0      0      0   \n",
       "3  0.288764  0.805110  ...        0      0      0      0      0      0      0   \n",
       "4  0.303809  0.812646  ...        0      0      0      0      0      0      0   \n",
       "\n",
       "   D1774  D1775  D1776  \n",
       "0      0      0      0  \n",
       "1      0      1      0  \n",
       "2      0      0      0  \n",
       "3      0      0      0  \n",
       "4      0      0      0  \n",
       "\n",
       "[5 rows x 1777 columns]"
      ]
     },
     "execution_count": 2,
     "metadata": {},
     "output_type": "execute_result"
    }
   ],
   "source": [
    "data = pd.read_csv('./gbm-data.csv')\n",
    "data.head()"
   ]
  },
  {
   "cell_type": "code",
   "execution_count": 6,
   "metadata": {
    "scrolled": false
   },
   "outputs": [],
   "source": [
    "X = data[data.columns[1:]]\n",
    "y = data.Activity"
   ]
  },
  {
   "cell_type": "code",
   "execution_count": 9,
   "metadata": {},
   "outputs": [
    {
     "data": {
      "text/plain": [
       "((750, 1776), (3001, 1776))"
      ]
     },
     "execution_count": 9,
     "metadata": {},
     "output_type": "execute_result"
    }
   ],
   "source": [
    "from sklearn.model_selection import train_test_split\n",
    "X_train, X_test, y_train, y_test = train_test_split(X, y, test_size=0.8, random_state=241)\n",
    "X_train.shape, X_test.shape"
   ]
  },
  {
   "cell_type": "code",
   "execution_count": 19,
   "metadata": {
    "collapsed": true
   },
   "outputs": [],
   "source": [
    "def sigma(y_pred):\n",
    "    from math import e\n",
    "    return 1. / (1 + e ** (-y_pred))"
   ]
  },
  {
   "cell_type": "code",
   "execution_count": 20,
   "metadata": {},
   "outputs": [
    {
     "name": "stdout",
     "output_type": "stream",
     "text": [
      "      Iter       Train Loss   Remaining Time \n",
      "         1           1.0190           12.54s\n",
      "         2           0.9192           12.12s\n",
      "         3           0.8272           11.31s\n",
      "         4           0.7834            9.92s\n",
      "         5           0.7109            9.43s\n",
      "         6           0.6368            9.73s\n",
      "         7           0.5797            9.49s\n",
      "         8           0.5610            8.80s\n",
      "         9           0.5185            8.55s\n",
      "        10           0.4984            8.11s\n",
      "        20           0.1999            7.56s\n",
      "        30           0.1313            6.62s\n",
      "        40           0.0790            6.25s\n",
      "        50           0.0511            5.97s\n",
      "        60           0.0352            5.65s\n",
      "        70           0.0245            5.26s\n",
      "        80           0.0162            4.96s\n",
      "        90           0.0114            4.62s\n",
      "       100           0.0077            4.36s\n",
      "       200           0.0004            1.27s\n",
      "      Iter       Train Loss   Remaining Time \n",
      "         1           1.1255           12.62s\n",
      "         2           1.0035           12.43s\n",
      "         3           0.9386           12.47s\n",
      "         4           0.8844           11.09s\n",
      "         5           0.8381           10.60s\n",
      "         6           0.7995           10.20s\n",
      "         7           0.7559            9.78s\n",
      "         8           0.7205            9.47s\n",
      "         9           0.6958            9.08s\n",
      "        10           0.6725            8.81s\n",
      "        20           0.4672            7.44s\n",
      "        30           0.3179            7.06s\n",
      "        40           0.2274            6.87s\n",
      "        50           0.1774            6.36s\n",
      "        60           0.1394            5.97s\n",
      "        70           0.1050            5.68s\n",
      "        80           0.0805            5.35s\n",
      "        90           0.0650            4.99s\n",
      "       100           0.0511            4.74s\n",
      "       200           0.0058            1.48s\n",
      "      Iter       Train Loss   Remaining Time \n",
      "         1           1.2095           11.38s\n",
      "         2           1.1006           11.36s\n",
      "         3           1.0240           11.25s\n",
      "         4           0.9729           11.13s\n",
      "         5           0.9387           10.19s\n",
      "         6           0.8948           10.42s\n",
      "         7           0.8621            9.99s\n",
      "         8           0.8360            9.49s\n",
      "         9           0.8171            9.08s\n",
      "        10           0.7883            8.89s\n",
      "        20           0.6164            7.58s\n",
      "        30           0.4933            6.92s\n",
      "        40           0.4248            6.35s\n",
      "        50           0.3345            6.19s\n",
      "        60           0.2760            5.82s\n",
      "        70           0.2263            5.57s\n",
      "        80           0.1971            5.19s\n",
      "        90           0.1693            4.87s\n",
      "       100           0.1388            4.64s\n",
      "       200           0.0294            1.51s\n",
      "      Iter       Train Loss   Remaining Time \n",
      "         1           1.2613           11.35s\n",
      "         2           1.1715           11.50s\n",
      "         3           1.1009           11.78s\n",
      "         4           1.0529           11.83s\n",
      "         5           1.0130           12.20s\n",
      "         6           0.9740           12.14s\n",
      "         7           0.9475           11.42s\n",
      "         8           0.9197           11.47s\n",
      "         9           0.8979           11.06s\n",
      "        10           0.8730           11.11s\n",
      "        20           0.7207            8.93s\n",
      "        30           0.6055            8.06s\n",
      "        40           0.5244            7.34s\n",
      "        50           0.4501            6.87s\n",
      "        60           0.3908            6.41s\n",
      "        70           0.3372            6.01s\n",
      "        80           0.3009            5.65s\n",
      "        90           0.2603            5.29s\n",
      "       100           0.2327            4.88s\n",
      "       200           0.0835            1.50s\n",
      "      Iter       Train Loss   Remaining Time \n",
      "         1           1.3199           11.22s\n",
      "         2           1.2645           11.17s\n",
      "         3           1.2170           11.13s\n",
      "         4           1.1775           11.08s\n",
      "         5           1.1404           11.17s\n",
      "         6           1.1106           11.11s\n",
      "         7           1.0844           11.02s\n",
      "         8           1.0617           10.97s\n",
      "         9           1.0411           10.89s\n",
      "        10           1.0223           10.92s\n",
      "        20           0.8864            9.95s\n",
      "        30           0.7844            8.88s\n",
      "        40           0.7176            7.84s\n",
      "        50           0.6590            7.11s\n",
      "        60           0.6120            6.50s\n",
      "        70           0.5599            6.06s\n",
      "        80           0.5242            5.61s\n",
      "        90           0.4829            5.23s\n",
      "       100           0.4473            4.90s\n",
      "       200           0.2379            1.52s\n"
     ]
    },
    {
     "data": {
      "image/png": "[encoded data removed]",
      "text/plain": [
       "<matplotlib.figure.Figure at 0x7f3891321e10>"
      ]
     },
     "metadata": {},
     "output_type": "display_data"
    },
    {
     "data": {
      "image/png": "[encoded data removed]",
      "text/plain": [
       "<matplotlib.figure.Figure at 0x7f38913b7630>"
      ]
     },
     "metadata": {},
     "output_type": "display_data"
    },
    {
     "data": {
      "image/png": "[encoded data removed]",
      "text/plain": [
       "<matplotlib.figure.Figure at 0x7f389143cc50>"
      ]
     },
     "metadata": {},
     "output_type": "display_data"
    },
    {
     "data": {
      "image/png": "[encoded data removed]",
      "text/plain": [
       "<matplotlib.figure.Figure at 0x7f38913b75c0>"
      ]
     },
     "metadata": {},
     "output_type": "display_data"
    },
    {
     "data": {
      "image/png": "[encoded data removed]",
      "text/plain": [
       "<matplotlib.figure.Figure at 0x7f3898d05e48>"
      ]
     },
     "metadata": {},
     "output_type": "display_data"
    }
   ],
   "source": [
    "from sklearn.ensemble import GradientBoostingClassifier\n",
    "from sklearn.metrics import log_loss\n",
    "for learning_rate in [1, 0.5, 0.3, 0.2, 0.1]:\n",
    "    gbc = GradientBoostingClassifier(learning_rate = learning_rate, n_estimators = 250, verbose = True, random_state = 241)\n",
    "    gbc.fit(X_train, y_train)\n",
    "    pred_train = list(gbc.staged_decision_function(X_train.values))\n",
    "    pred_test = list(gbc.staged_decision_function(X_test.values))\n",
    "    pred_train = list(map(sigma, pred_train))\n",
    "    pred_test = list(map(sigma, pred_test))\n",
    "    train_loss = [log_loss(y_train, i) for i in pred_train]\n",
    "    test_loss = [log_loss(y_test, i) for i in pred_test] \n",
    "    plt.figure()\n",
    "    plt.plot(test_loss, 'r', linewidth=2)\n",
    "    plt.plot(train_loss, 'g', linewidth=2)\n",
    "    plt.legend(['test', 'train'])"
   ]
  },
  {
   "cell_type": "code",
   "execution_count": 23,
   "metadata": {
    "scrolled": true
   },
   "outputs": [
    {
     "name": "stdout",
     "output_type": "stream",
     "text": [
      "      Iter       Train Loss   Remaining Time \n",
      "         1           1.2613           12.23s\n",
      "         2           1.1715           11.77s\n",
      "         3           1.1009           11.93s\n",
      "         4           1.0529           11.72s\n",
      "         5           1.0130           11.94s\n",
      "         6           0.9740           12.14s\n",
      "         7           0.9475           11.26s\n",
      "         8           0.9197           11.19s\n",
      "         9           0.8979           10.63s\n",
      "        10           0.8730           10.55s\n",
      "        20           0.7207            8.44s\n",
      "        30           0.6055            7.63s\n",
      "        40           0.5244            7.06s\n",
      "        50           0.4501            6.56s\n",
      "        60           0.3908            6.20s\n",
      "        70           0.3372            5.89s\n",
      "        80           0.3009            5.51s\n",
      "        90           0.2603            5.17s\n",
      "       100           0.2327            4.78s\n",
      "       200           0.0835            1.48s\n",
      "[(0.53145079631906378, 36), (0.53171128877206142, 38), (0.5317361964070465, 37), (0.53178307104761602, 35), (0.53220786962608513, 17), (0.5325154604863449, 27), (0.53268469663117346, 26), (0.53277886017949838, 18), (0.5328304314892357, 39), (0.53287660773286294, 21), (0.53299231464294694, 23), (0.5331713867832798, 22), (0.53318070767591053, 19), (0.53319710518515573, 24), (0.53327853768247513, 20), (0.53337699698183316, 30), (0.53341104880059476, 29), (0.53388392070020652, 31), (0.5339579036230212, 34), (0.53396296625272976, 40), (0.53399381434633575, 25), (0.53423210942033428, 28), (0.53430067358239586, 14), (0.53431247814673899, 12), (0.53431550939705996, 15), (0.53439792817112852, 16), (0.53451547835242175, 41), (0.53459940519960425, 32), (0.53474299449839757, 13), (0.53477035310583743, 11), (0.53516946523229914, 42), (0.53527944829860907, 33), (0.53537719148603014, 44), (0.53564884401450108, 46), (0.53565255247234012, 43), (0.53598272386237245, 10), (0.53607278398954461, 45), (0.53657038865496087, 47), (0.5377396014457767, 9), (0.53788953386584992, 48), (0.53892008412369596, 49), (0.53911630154342227, 50), (0.54022959073546251, 51), (0.54135333238080263, 52), (0.5415196492514055, 8), (0.54196049960570025, 53), (0.54266178231235263, 63), (0.54308315552561492, 65), (0.54314423343208207, 54), (0.54316952092910786, 64), (0.54449453129222747, 62), (0.54466339201289315, 55), (0.54478600962715029, 56), (0.54479624362991863, 60), (0.54480651988157902, 66), (0.54488260364904684, 61), (0.54506411566926194, 57), (0.54510642518337649, 58), (0.54540669883556891, 59), (0.54590975817128529, 68), (0.54609412316447603, 7), (0.54619258459354181, 67), (0.54639143573242777, 69), (0.54706690659592272, 70), (0.5471054806832456, 72), (0.54735633981574838, 73), (0.54771055283006376, 71), (0.54825381287344066, 74), (0.54905659728429446, 76), (0.54933480921741762, 75), (0.54961421992233561, 78), (0.55000067097454308, 77), (0.55208273714699252, 79), (0.55258129738897155, 80), (0.55274722101280394, 6), (0.55346264550057611, 81), (0.5540978137282826, 82), (0.5545783125100916, 83), (0.55518070462288094, 84), (0.55519382469462675, 85), (0.55525271295671286, 86), (0.55644900913525119, 88), (0.5565509521405646, 87), (0.55771814428635347, 90), (0.55797364195115451, 89), (0.55800521014822857, 91), (0.55828491066009489, 92), (0.55857055195436101, 5), (0.55934722888418298, 93), (0.56107878938148181, 94), (0.56267308857101561, 95), (0.56287967550889006, 97), (0.56291875243292511, 98), (0.56333381048913134, 96), (0.56346035754499169, 100), (0.563463775416021, 4), (0.56368162607492167, 99), (0.56378828329868236, 101), (0.56386686141655162, 102), (0.5648495282626651, 103), (0.56513546711699147, 105), (0.5652963163709569, 104), (0.56583754394601105, 106), (0.56679443060477652, 107), (0.56684505811760189, 110), (0.56691243681816739, 112), (0.56694469808295855, 109), (0.56707253789535639, 108), (0.56742634446062346, 111), (0.56829109139226863, 113), (0.57065749403854027, 114), (0.57156033395441319, 119), (0.57185448905120506, 115), (0.57239542673382593, 118), (0.57248743272681013, 117), (0.57253528253237596, 120), (0.57273943861043897, 121), (0.57298926094463187, 116), (0.57364428103325504, 122), (0.57577144941088643, 123), (0.57643212535192134, 124), (0.57673645151225961, 3), (0.57705952845196962, 125), (0.57854015506227963, 126), (0.58053006724961109, 127), (0.58088452585234762, 128), (0.58135402851288132, 129), (0.58148297749890132, 130), (0.58210202089808838, 131), (0.58304154318191304, 134), (0.58370113730017126, 133), (0.58375447227768329, 132), (0.58433125833178634, 135), (0.58462103494942408, 136), (0.58531606050101936, 138), (0.58567571717947098, 137), (0.58589818515115455, 139), (0.5879601982155368, 140), (0.58897825506209722, 141), (0.58969493875811696, 142), (0.5901137860323511, 143), (0.59048393724961867, 2), (0.59084116345590787, 144), (0.59155220936341235, 145), (0.59196415715722284, 147), (0.59203603251596126, 146), (0.59233615945227558, 148), (0.59365404310610492, 149), (0.59378765751575546, 151), (0.59404910260787114, 150), (0.59459364341116638, 152), (0.59463875006313949, 153), (0.59476720980644582, 154), (0.59596740761843781, 155), (0.59641037119333262, 156), (0.59798149755823349, 157), (0.59852597490536374, 158), (0.59859686094848963, 159), (0.59972429232043833, 160), (0.59981631021030002, 161), (0.60005370828110849, 162), (0.60023550759091937, 165), (0.60050897628363653, 163), (0.60082526976149653, 167), (0.60099805940194584, 166), (0.60100757907777125, 164), (0.60155227838838554, 168), (0.60222426137958895, 169), (0.60338426924116162, 170), (0.60369542881765892, 171), (0.60425664746810126, 172), (0.60481182594104499, 173), (0.60601139703411411, 174), (0.60693402154338971, 175), (0.60733353786647659, 176), (0.60840101408817249, 177), (0.61093450369366487, 179), (0.61115136489736455, 178), (0.61126297113137706, 181), (0.61131207691715028, 183), (0.61149799814101313, 180), (0.61168045369184965, 1), (0.6118064006622691, 182), (0.61361380864409376, 184), (0.61382610622265665, 185), (0.61486071761490269, 187), (0.61514114015584054, 186), (0.61606994255996672, 188), (0.61783435089606964, 189), (0.61837360727368396, 190), (0.61904969774180019, 191), (0.61922551510506507, 192), (0.62021946345873979, 193), (0.62111460546302943, 194), (0.62158118563690412, 195), (0.62238188858362042, 198), (0.62317049894875354, 197), (0.62340674583562294, 196), (0.62341568001706749, 199), (0.62459052002616844, 200), (0.62566024681713717, 201), (0.6263219296479996, 202), (0.62740275252770727, 203), (0.62777606625321747, 206), (0.62778640006928677, 204), (0.62781139853164314, 205), (0.62971420651029442, 207), (0.6297670171701758, 209), (0.62989548946726415, 208), (0.63102394005791373, 210), (0.63138974551597515, 211), (0.63198238499269022, 212), (0.63243333512314392, 213), (0.63351060033425743, 214), (0.63420874862172205, 215), (0.63470966200325207, 216), (0.63477783870730042, 217), (0.63541295502175776, 218), (0.63691647962546216, 219), (0.6372134042295533, 220), (0.6375657076721104, 221), (0.63789452987350281, 223), (0.63796658241243331, 222), (0.63816381860326399, 224), (0.63922866095312914, 225), (0.64092534496512632, 226), (0.64096956895484047, 227), (0.64205454440846799, 229), (0.64207244533836427, 228), (0.6425525983940259, 230), (0.64340330845503146, 231), (0.64395064628923449, 232), (0.64401782525329754, 0), (0.64460310631101925, 233), (0.64702335542885503, 234), (0.64747972099184981, 236), (0.6476052476305808, 235), (0.64799749194956624, 237), (0.6482377550067755, 238), (0.65037001065922817, 239), (0.65172729926599215, 240), (0.65223399359499734, 241), (0.6527092728423024, 242), (0.65385761851303636, 243), (0.6551092805089227, 244), (0.65594627069827949, 245), (0.65694007503511931, 246), (0.65765733400436754, 247), (0.65794886485508197, 248), (0.65901842597578175, 249)]\n"
     ]
    }
   ],
   "source": [
    "gbc = GradientBoostingClassifier(learning_rate = 0.2, n_estimators = 250, verbose = True, random_state = 241)\n",
    "gbc.fit(X_train, y_train)\n",
    "pred_test = list(gbc.staged_decision_function(X_test.values))\n",
    "pred_test = list(map(sigma, pred_test))\n",
    "test_loss = [(log_loss(y_test, pred_test[i]), i) for i in range(len(pred_test))]\n",
    "print(sorted(test_loss))"
   ]
  },
  {
   "cell_type": "code",
   "execution_count": 26,
   "metadata": {},
   "outputs": [
    {
     "data": {
      "text/plain": [
       "0.54138128618040693"
      ]
     },
     "execution_count": 26,
     "metadata": {},
     "output_type": "execute_result"
    }
   ],
   "source": [
    "from sklearn.ensemble import RandomForestClassifier\n",
    "rfc = RandomForestClassifier(n_estimators = 36, random_state = 241)\n",
    "rfc.fit(X_train, y_train)\n",
    "pred = rfc.predict_proba(X_test)\n",
    "log_loss(y_test, pred)"
   ]
  },
  {
   "cell_type": "code",
   "execution_count": null,
   "metadata": {
    "collapsed": true
   },
   "outputs": [],
   "source": []
  }
 ],
 "metadata": {
  "kernelspec": {
   "display_name": "Python 3",
   "language": "python",
   "name": "python3"
  },
  "language_info": {
   "codemirror_mode": {
    "name": "ipython",
    "version": 3
   },
   "file_extension": ".py",
   "mimetype": "text/x-python",
   "name": "python",
   "nbconvert_exporter": "python",
   "pygments_lexer": "ipython3",
   "version": "3.6.3"
  }
 },
 "nbformat": 4,
 "nbformat_minor": 2
}
