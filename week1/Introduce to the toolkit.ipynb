{
 "cells": [
  {
   "cell_type": "markdown",
   "metadata": {},
   "source": [
    "## Theory"
   ]
  },
  {
   "cell_type": "markdown",
   "metadata": {},
   "source": [
    "vectors and matrices in NumPy"
   ]
  },
  {
   "cell_type": "code",
   "execution_count": 1,
   "metadata": {
    "collapsed": true
   },
   "outputs": [],
   "source": [
    "import numpy as np"
   ]
  },
  {
   "cell_type": "code",
   "execution_count": 3,
   "metadata": {},
   "outputs": [
    {
     "name": "stdout",
     "output_type": "stream",
     "text": [
      "[[  5.40142583  22.39260449   8.55903365 ...,  -3.44621456   3.46907754\n",
      "    7.76830996]\n",
      " [ 15.79155008  -1.12127586  -3.27252342 ...,  -6.78715835  17.01855798\n",
      "    8.96655821]\n",
      " [ -0.20664798  15.8515979   -2.12237576 ...,   3.8822773   -7.29763711\n",
      "   23.13900315]\n",
      " ..., \n",
      " [ 10.09172641   6.78313103   7.22585949 ..., -11.43266173   9.85632309\n",
      "   -9.5691101 ]\n",
      " [-14.38907639   1.2267644   23.55616835 ...,  -2.62055319   0.91100018\n",
      "   -9.27802839]\n",
      " [ -6.06213217   9.03447416   2.55765585 ...,   2.56132509   9.73940764\n",
      "   -9.18893855]]\n"
     ]
    }
   ],
   "source": [
    "x = np.random.normal(loc = 1, scale = 10, size = (1000, 50))\n",
    "print x"
   ]
  },
  {
   "cell_type": "code",
   "execution_count": 4,
   "metadata": {},
   "outputs": [
    {
     "name": "stdout",
     "output_type": "stream",
     "text": [
      "[[ 0.42724982  2.17054007  0.70306778 ..., -0.42614236  0.26305693\n",
      "   0.71444379]\n",
      " [ 1.45341029 -0.18473206 -0.47765095 ..., -0.76398771  1.59354825\n",
      "   0.83907315]\n",
      " [-0.12662071  1.51535895 -0.36287308 ...,  0.31493474 -0.79418069\n",
      "   2.31314392]\n",
      " ..., \n",
      " [ 0.89047826  0.60701431  0.57002496 ..., -1.23375369  0.89025255\n",
      "  -1.08881488]\n",
      " [-1.52732074  0.05045983  2.19969226 ..., -0.34264923  0.01186651\n",
      "  -1.05853958]\n",
      " [-0.70492625  0.8325205   0.10416612 ...,  0.18135645  0.87877204\n",
      "  -1.04927338]]\n"
     ]
    }
   ],
   "source": [
    "m = np.mean(x, axis = 0)\n",
    "s = np.std(x, axis = 0)\n",
    "x_norm = (x - m) / s\n",
    "print x_norm"
   ]
  },
  {
   "cell_type": "code",
   "execution_count": 7,
   "metadata": {},
   "outputs": [
    {
     "name": "stdout",
     "output_type": "stream",
     "text": [
      "(array([1, 4, 5]),)\n"
     ]
    }
   ],
   "source": [
    "Z = np.array([[4, 5, 0], \n",
    "             [1, 9, 3],              \n",
    "             [5, 1, 1],\n",
    "             [3, 3, 3], \n",
    "             [9, 9, 9], \n",
    "             [4, 7, 1]])\n",
    "sums = np.sum(Z, axis = 1)\n",
    "print np.nonzero(sums > 10)"
   ]
  },
  {
   "cell_type": "code",
   "execution_count": 10,
   "metadata": {},
   "outputs": [
    {
     "name": "stdout",
     "output_type": "stream",
     "text": [
      "[[ 1.  0.  0.]\n",
      " [ 0.  1.  0.]\n",
      " [ 0.  0.  1.]]\n",
      "[[ 1.  0.  0.]\n",
      " [ 0.  1.  0.]\n",
      " [ 0.  0.  1.]]\n"
     ]
    }
   ],
   "source": [
    "a = np.eye(3)\n",
    "b = np.eye(3)\n",
    "print a\n",
    "print b"
   ]
  },
  {
   "cell_type": "code",
   "execution_count": 12,
   "metadata": {},
   "outputs": [
    {
     "name": "stdout",
     "output_type": "stream",
     "text": [
      "[[ 1.  0.  0.]\n",
      " [ 0.  1.  0.]\n",
      " [ 0.  0.  1.]\n",
      " [ 1.  0.  0.]\n",
      " [ 0.  1.  0.]\n",
      " [ 0.  0.  1.]]\n"
     ]
    }
   ],
   "source": [
    "ab = np.vstack((a, b))\n",
    "print ab"
   ]
  },
  {
   "cell_type": "markdown",
   "metadata": {},
   "source": [
    "Data preprocessing in Pandas"
   ]
  },
  {
   "cell_type": "code",
   "execution_count": 2,
   "metadata": {},
   "outputs": [
    {
     "name": "stdout",
     "output_type": "stream",
     "text": [
      "             Survived  Pclass  \\\n",
      "PassengerId                     \n",
      "1                   0       3   \n",
      "2                   1       1   \n",
      "3                   1       3   \n",
      "4                   1       1   \n",
      "5                   0       3   \n",
      "6                   0       3   \n",
      "7                   0       1   \n",
      "8                   0       3   \n",
      "9                   1       3   \n",
      "10                  1       2   \n",
      "11                  1       3   \n",
      "12                  1       1   \n",
      "13                  0       3   \n",
      "14                  0       3   \n",
      "15                  0       3   \n",
      "16                  1       2   \n",
      "17                  0       3   \n",
      "18                  1       2   \n",
      "19                  0       3   \n",
      "20                  1       3   \n",
      "21                  0       2   \n",
      "22                  1       2   \n",
      "23                  1       3   \n",
      "24                  1       1   \n",
      "25                  0       3   \n",
      "26                  1       3   \n",
      "27                  0       3   \n",
      "28                  0       1   \n",
      "29                  1       3   \n",
      "30                  0       3   \n",
      "...               ...     ...   \n",
      "862                 0       2   \n",
      "863                 1       1   \n",
      "864                 0       3   \n",
      "865                 0       2   \n",
      "866                 1       2   \n",
      "867                 1       2   \n",
      "868                 0       1   \n",
      "869                 0       3   \n",
      "870                 1       3   \n",
      "871                 0       3   \n",
      "872                 1       1   \n",
      "873                 0       1   \n",
      "874                 0       3   \n",
      "875                 1       2   \n",
      "876                 1       3   \n",
      "877                 0       3   \n",
      "878                 0       3   \n",
      "879                 0       3   \n",
      "880                 1       1   \n",
      "881                 1       2   \n",
      "882                 0       3   \n",
      "883                 0       3   \n",
      "884                 0       2   \n",
      "885                 0       3   \n",
      "886                 0       3   \n",
      "887                 0       2   \n",
      "888                 1       1   \n",
      "889                 0       3   \n",
      "890                 1       1   \n",
      "891                 0       3   \n",
      "\n",
      "                                                          Name     Sex   Age  \\\n",
      "PassengerId                                                                    \n",
      "1                                      Braund, Mr. Owen Harris    male  22.0   \n",
      "2            Cumings, Mrs. John Bradley (Florence Briggs Th...  female  38.0   \n",
      "3                                       Heikkinen, Miss. Laina  female  26.0   \n",
      "4                 Futrelle, Mrs. Jacques Heath (Lily May Peel)  female  35.0   \n",
      "5                                     Allen, Mr. William Henry    male  35.0   \n",
      "6                                             Moran, Mr. James    male   NaN   \n",
      "7                                      McCarthy, Mr. Timothy J    male  54.0   \n",
      "8                               Palsson, Master. Gosta Leonard    male   2.0   \n",
      "9            Johnson, Mrs. Oscar W (Elisabeth Vilhelmina Berg)  female  27.0   \n",
      "10                         Nasser, Mrs. Nicholas (Adele Achem)  female  14.0   \n",
      "11                             Sandstrom, Miss. Marguerite Rut  female   4.0   \n",
      "12                                    Bonnell, Miss. Elizabeth  female  58.0   \n",
      "13                              Saundercock, Mr. William Henry    male  20.0   \n",
      "14                                 Andersson, Mr. Anders Johan    male  39.0   \n",
      "15                        Vestrom, Miss. Hulda Amanda Adolfina  female  14.0   \n",
      "16                            Hewlett, Mrs. (Mary D Kingcome)   female  55.0   \n",
      "17                                        Rice, Master. Eugene    male   2.0   \n",
      "18                                Williams, Mr. Charles Eugene    male   NaN   \n",
      "19           Vander Planke, Mrs. Julius (Emelia Maria Vande...  female  31.0   \n",
      "20                                     Masselmani, Mrs. Fatima  female   NaN   \n",
      "21                                        Fynney, Mr. Joseph J    male  35.0   \n",
      "22                                       Beesley, Mr. Lawrence    male  34.0   \n",
      "23                                 McGowan, Miss. Anna \"Annie\"  female  15.0   \n",
      "24                                Sloper, Mr. William Thompson    male  28.0   \n",
      "25                               Palsson, Miss. Torborg Danira  female   8.0   \n",
      "26           Asplund, Mrs. Carl Oscar (Selma Augusta Emilia...  female  38.0   \n",
      "27                                     Emir, Mr. Farred Chehab    male   NaN   \n",
      "28                              Fortune, Mr. Charles Alexander    male  19.0   \n",
      "29                               O'Dwyer, Miss. Ellen \"Nellie\"  female   NaN   \n",
      "30                                         Todoroff, Mr. Lalio    male   NaN   \n",
      "...                                                        ...     ...   ...   \n",
      "862                                Giles, Mr. Frederick Edward    male  21.0   \n",
      "863          Swift, Mrs. Frederick Joel (Margaret Welles Ba...  female  48.0   \n",
      "864                          Sage, Miss. Dorothy Edith \"Dolly\"  female   NaN   \n",
      "865                                     Gill, Mr. John William    male  24.0   \n",
      "866                                   Bystrom, Mrs. (Karolina)  female  42.0   \n",
      "867                               Duran y More, Miss. Asuncion  female  27.0   \n",
      "868                       Roebling, Mr. Washington Augustus II    male  31.0   \n",
      "869                                van Melkebeke, Mr. Philemon    male   NaN   \n",
      "870                            Johnson, Master. Harold Theodor    male   4.0   \n",
      "871                                          Balkic, Mr. Cerin    male  26.0   \n",
      "872           Beckwith, Mrs. Richard Leonard (Sallie Monypeny)  female  47.0   \n",
      "873                                   Carlsson, Mr. Frans Olof    male  33.0   \n",
      "874                                Vander Cruyssen, Mr. Victor    male  47.0   \n",
      "875                      Abelson, Mrs. Samuel (Hannah Wizosky)  female  28.0   \n",
      "876                           Najib, Miss. Adele Kiamie \"Jane\"  female  15.0   \n",
      "877                              Gustafsson, Mr. Alfred Ossian    male  20.0   \n",
      "878                                       Petroff, Mr. Nedelio    male  19.0   \n",
      "879                                         Laleff, Mr. Kristo    male   NaN   \n",
      "880              Potter, Mrs. Thomas Jr (Lily Alexenia Wilson)  female  56.0   \n",
      "881               Shelley, Mrs. William (Imanita Parrish Hall)  female  25.0   \n",
      "882                                         Markun, Mr. Johann    male  33.0   \n",
      "883                               Dahlberg, Miss. Gerda Ulrika  female  22.0   \n",
      "884                              Banfield, Mr. Frederick James    male  28.0   \n",
      "885                                     Sutehall, Mr. Henry Jr    male  25.0   \n",
      "886                       Rice, Mrs. William (Margaret Norton)  female  39.0   \n",
      "887                                      Montvila, Rev. Juozas    male  27.0   \n",
      "888                               Graham, Miss. Margaret Edith  female  19.0   \n",
      "889                   Johnston, Miss. Catherine Helen \"Carrie\"  female   NaN   \n",
      "890                                      Behr, Mr. Karl Howell    male  26.0   \n",
      "891                                        Dooley, Mr. Patrick    male  32.0   \n",
      "\n",
      "             SibSp  Parch            Ticket      Fare        Cabin Embarked  \n",
      "PassengerId                                                                  \n",
      "1                1      0         A/5 21171    7.2500          NaN        S  \n",
      "2                1      0          PC 17599   71.2833          C85        C  \n",
      "3                0      0  STON/O2. 3101282    7.9250          NaN        S  \n",
      "4                1      0            113803   53.1000         C123        S  \n",
      "5                0      0            373450    8.0500          NaN        S  \n",
      "6                0      0            330877    8.4583          NaN        Q  \n",
      "7                0      0             17463   51.8625          E46        S  \n",
      "8                3      1            349909   21.0750          NaN        S  \n",
      "9                0      2            347742   11.1333          NaN        S  \n",
      "10               1      0            237736   30.0708          NaN        C  \n",
      "11               1      1           PP 9549   16.7000           G6        S  \n",
      "12               0      0            113783   26.5500         C103        S  \n",
      "13               0      0         A/5. 2151    8.0500          NaN        S  \n",
      "14               1      5            347082   31.2750          NaN        S  \n",
      "15               0      0            350406    7.8542          NaN        S  \n",
      "16               0      0            248706   16.0000          NaN        S  \n",
      "17               4      1            382652   29.1250          NaN        Q  \n",
      "18               0      0            244373   13.0000          NaN        S  \n",
      "19               1      0            345763   18.0000          NaN        S  \n",
      "20               0      0              2649    7.2250          NaN        C  \n",
      "21               0      0            239865   26.0000          NaN        S  \n",
      "22               0      0            248698   13.0000          D56        S  \n",
      "23               0      0            330923    8.0292          NaN        Q  \n",
      "24               0      0            113788   35.5000           A6        S  \n",
      "25               3      1            349909   21.0750          NaN        S  \n",
      "26               1      5            347077   31.3875          NaN        S  \n",
      "27               0      0              2631    7.2250          NaN        C  \n",
      "28               3      2             19950  263.0000  C23 C25 C27        S  \n",
      "29               0      0            330959    7.8792          NaN        Q  \n",
      "30               0      0            349216    7.8958          NaN        S  \n",
      "...            ...    ...               ...       ...          ...      ...  \n",
      "862              1      0             28134   11.5000          NaN        S  \n",
      "863              0      0             17466   25.9292          D17        S  \n",
      "864              8      2          CA. 2343   69.5500          NaN        S  \n",
      "865              0      0            233866   13.0000          NaN        S  \n",
      "866              0      0            236852   13.0000          NaN        S  \n",
      "867              1      0     SC/PARIS 2149   13.8583          NaN        C  \n",
      "868              0      0          PC 17590   50.4958          A24        S  \n",
      "869              0      0            345777    9.5000          NaN        S  \n",
      "870              1      1            347742   11.1333          NaN        S  \n",
      "871              0      0            349248    7.8958          NaN        S  \n",
      "872              1      1             11751   52.5542          D35        S  \n",
      "873              0      0               695    5.0000  B51 B53 B55        S  \n",
      "874              0      0            345765    9.0000          NaN        S  \n",
      "875              1      0         P/PP 3381   24.0000          NaN        C  \n",
      "876              0      0              2667    7.2250          NaN        C  \n",
      "877              0      0              7534    9.8458          NaN        S  \n",
      "878              0      0            349212    7.8958          NaN        S  \n",
      "879              0      0            349217    7.8958          NaN        S  \n",
      "880              0      1             11767   83.1583          C50        C  \n",
      "881              0      1            230433   26.0000          NaN        S  \n",
      "882              0      0            349257    7.8958          NaN        S  \n",
      "883              0      0              7552   10.5167          NaN        S  \n",
      "884              0      0  C.A./SOTON 34068   10.5000          NaN        S  \n",
      "885              0      0   SOTON/OQ 392076    7.0500          NaN        S  \n",
      "886              0      5            382652   29.1250          NaN        Q  \n",
      "887              0      0            211536   13.0000          NaN        S  \n",
      "888              0      0            112053   30.0000          B42        S  \n",
      "889              1      2        W./C. 6607   23.4500          NaN        S  \n",
      "890              0      0            111369   30.0000         C148        C  \n",
      "891              0      0            370376    7.7500          NaN        Q  \n",
      "\n",
      "[891 rows x 11 columns]\n"
     ]
    }
   ],
   "source": [
    "import pandas\n",
    "data = pandas.read_csv('titanic.csv', index_col = 'PassengerId')\n",
    "print data"
   ]
  },
  {
   "cell_type": "code",
   "execution_count": 17,
   "metadata": {},
   "outputs": [
    {
     "name": "stdout",
     "output_type": "stream",
     "text": [
      "male      577\n",
      "female    314\n",
      "Name: Sex, dtype: int64\n"
     ]
    }
   ],
   "source": [
    "print data['Sex'].value_counts() # количество мужчин и женщин"
   ]
  },
  {
   "cell_type": "code",
   "execution_count": 23,
   "metadata": {},
   "outputs": [
    {
     "name": "stdout",
     "output_type": "stream",
     "text": [
      "38.3838383838\n"
     ]
    }
   ],
   "source": [
    "print 1. * len(data[data.Survived == 1]) / len(data) * 100 # percent of survived"
   ]
  },
  {
   "cell_type": "code",
   "execution_count": 24,
   "metadata": {},
   "outputs": [
    {
     "name": "stdout",
     "output_type": "stream",
     "text": [
      "24.2424242424\n"
     ]
    }
   ],
   "source": [
    "print 1. * len(data[data.Pclass == 1]) / len(data) * 100 # percent of 1st class"
   ]
  },
  {
   "cell_type": "code",
   "execution_count": 38,
   "metadata": {},
   "outputs": [
    {
     "name": "stdout",
     "output_type": "stream",
     "text": [
      "29.6991176471\n",
      "28.0\n"
     ]
    }
   ],
   "source": [
    "print data['Age'].mean()\n",
    "print data['Age'].median()"
   ]
  },
  {
   "cell_type": "code",
   "execution_count": 26,
   "metadata": {},
   "outputs": [
    {
     "name": "stdout",
     "output_type": "stream",
     "text": [
      "0.41483769862\n"
     ]
    }
   ],
   "source": [
    "print data.corr(method='pearson')['Parch']['SibSp'] # pearson corr between Parch and SibSp"
   ]
  },
  {
   "cell_type": "code",
   "execution_count": 3,
   "metadata": {},
   "outputs": [
    {
     "name": "stdout",
     "output_type": "stream",
     "text": [
      "Anna\n"
     ]
    }
   ],
   "source": [
    "all_names = data[data.Sex == 'female']['Name']\n",
    "# print all_names\n",
    "d = dict()\n",
    "for name in all_names:\n",
    "    s = name.split()\n",
    "    cur_name = ''\n",
    "    if 'Mrs.' in s and '(' in name:\n",
    "        cur_name = name.split('(')[1].split()[0]\n",
    "    else:\n",
    "        cur_name = s[2]\n",
    "    if cur_name in d:\n",
    "        d[cur_name] += 1\n",
    "    else:\n",
    "        d[cur_name] = 1\n",
    "ans = 0\n",
    "s = ''\n",
    "for k in d.keys():\n",
    "    if d[k] > ans:\n",
    "        ans = d[k]\n",
    "        s = k\n",
    "print s # most common name"
   ]
  },
  {
   "cell_type": "code",
   "execution_count": null,
   "metadata": {
    "collapsed": true
   },
   "outputs": [],
   "source": []
  }
 ],
 "metadata": {
  "kernelspec": {
   "display_name": "Python 2",
   "language": "python",
   "name": "python2"
  },
  "language_info": {
   "codemirror_mode": {
    "name": "ipython",
    "version": 2
   },
   "file_extension": ".py",
   "mimetype": "text/x-python",
   "name": "python",
   "nbconvert_exporter": "python",
   "pygments_lexer": "ipython2",
   "version": "2.7.14"
  }
 },
 "nbformat": 4,
 "nbformat_minor": 2
}
