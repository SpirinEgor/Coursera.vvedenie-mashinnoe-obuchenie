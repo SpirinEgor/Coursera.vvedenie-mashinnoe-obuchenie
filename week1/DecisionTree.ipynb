{
 "cells": [
  {
   "cell_type": "markdown",
   "metadata": {},
   "source": [
    "## Task"
   ]
  },
  {
   "cell_type": "code",
   "execution_count": 3,
   "metadata": {
    "collapsed": true
   },
   "outputs": [],
   "source": [
    "import pandas as pd\n",
    "import numpy as np\n",
    "from sklearn.tree import DecisionTreeClassifier"
   ]
  },
  {
   "cell_type": "code",
   "execution_count": 4,
   "metadata": {},
   "outputs": [
    {
     "name": "stdout",
     "output_type": "stream",
     "text": [
      "[ 0.14751816  0.29538468  0.25658495  0.30051221]\n"
     ]
    }
   ],
   "source": [
    "data = pd.read_csv('titanic.csv', index_col = 'PassengerId')\n",
    "x = data[np.isnan(data.Age) == False][['Pclass', 'Fare', 'Age', 'Sex']]\n",
    "x = x.replace(to_replace=['male', 'female'], value=[0, 1])\n",
    "# print x\n",
    "y = data[np.isnan(data.Age) == False]['Survived']\n",
    "clf = DecisionTreeClassifier(random_state = 241)\n",
    "clf = clf.fit(x, y)\n",
    "importances = clf.feature_importances_\n",
    "print importances"
   ]
  },
  {
   "cell_type": "markdown",
   "metadata": {},
   "source": [
    "## Kaggle solve"
   ]
  },
  {
   "cell_type": "code",
   "execution_count": 16,
   "metadata": {},
   "outputs": [
    {
     "name": "stdout",
     "output_type": "stream",
     "text": [
      "             Survived\n",
      "PassengerId          \n",
      "892                 0\n",
      "893                 0\n",
      "894                 1\n",
      "895                 1\n",
      "896                 0\n",
      "897                 0\n",
      "898                 1\n",
      "899                 0\n",
      "900                 1\n",
      "901                 0\n",
      "902                 0\n",
      "903                 0\n",
      "904                 1\n",
      "905                 0\n",
      "906                 1\n",
      "907                 1\n",
      "908                 0\n",
      "909                 1\n",
      "910                 1\n",
      "911                 0\n",
      "912                 0\n",
      "913                 1\n",
      "914                 1\n",
      "915                 0\n",
      "916                 1\n",
      "917                 0\n",
      "918                 1\n",
      "919                 1\n",
      "920                 1\n",
      "921                 0\n",
      "...               ...\n",
      "1280                0\n",
      "1281                0\n",
      "1282                0\n",
      "1283                1\n",
      "1284                0\n",
      "1285                0\n",
      "1286                0\n",
      "1287                1\n",
      "1288                0\n",
      "1289                1\n",
      "1290                0\n",
      "1291                0\n",
      "1292                1\n",
      "1293                0\n",
      "1294                1\n",
      "1295                1\n",
      "1296                0\n",
      "1297                0\n",
      "1298                0\n",
      "1299                0\n",
      "1300                0\n",
      "1301                1\n",
      "1302                0\n",
      "1303                1\n",
      "1304                0\n",
      "1305                0\n",
      "1306                1\n",
      "1307                0\n",
      "1308                0\n",
      "1309                0\n",
      "\n",
      "[418 rows x 1 columns]\n"
     ]
    }
   ],
   "source": [
    "data = pd.read_csv('train.csv', index_col = 'PassengerId')\n",
    "x = data[np.isnan(data.Age) == False][['Pclass', 'Fare', 'Age', 'Sex']]\n",
    "x = x.replace(to_replace=['male', 'female'], value=[0, 1])\n",
    "# print x\n",
    "y = data[np.isnan(data.Age) == False]['Survived']\n",
    "clf = DecisionTreeClassifier(criterion = \"entropy\")\n",
    "clf = clf.fit(x, y)\n",
    "test_data = pd.read_csv('test.csv', index_col = 'PassengerId')\n",
    "test_data_x = test_data[['Pclass', 'Fare', 'Age', 'Sex']]\n",
    "test_data_x = test_data_x.replace(to_replace=['male', 'female'], value=[0, 1])\n",
    "test_data_x = test_data_x.fillna(value=round(test_data_x['Age'].mean()))\n",
    "res = []\n",
    "for i, r in test_data_x.iterrows():\n",
    "    res.append([i, clf.predict(test_data_x.loc[[i]])[0]])\n",
    "res = pd.DataFrame(data = res, columns = ['PassengerId', 'Survived'])\n",
    "res = res.set_index('PassengerId')\n",
    "print res\n",
    "res.to_csv('result.csv', mode = 'a')"
   ]
  },
  {
   "cell_type": "code",
   "execution_count": null,
   "metadata": {
    "collapsed": true
   },
   "outputs": [],
   "source": []
  }
 ],
 "metadata": {
  "kernelspec": {
   "display_name": "Python 2",
   "language": "python",
   "name": "python2"
  },
  "language_info": {
   "codemirror_mode": {
    "name": "ipython",
    "version": 2
   },
   "file_extension": ".py",
   "mimetype": "text/x-python",
   "name": "python",
   "nbconvert_exporter": "python",
   "pygments_lexer": "ipython2",
   "version": "2.7.14"
  }
 },
 "nbformat": 4,
 "nbformat_minor": 2
}
